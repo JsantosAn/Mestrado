{
  "nbformat": 4,
  "nbformat_minor": 0,
  "metadata": {
    "colab": {
      "name": "Atividade4.ipynb",
      "provenance": []
    },
    "kernelspec": {
      "name": "python3",
      "display_name": "Python 3"
    }
  },
  "cells": [
    {
      "cell_type": "code",
      "metadata": {
        "id": "vNbJ9nZXDWvD",
        "colab": {
          "base_uri": "https://localhost:8080/"
        },
        "outputId": "9691a4b3-4293-49ee-8910-e970b9cabd2a"
      },
      "source": [
        "import numpy as np\n",
        "from sklearn.linear_model import LogisticRegression\n",
        "from sklearn.neighbors import KNeighborsRegressor\n",
        "from sklearn.metrics import make_scorer, mean_squared_error, accuracy_score\n",
        "from sklearn.model_selection import KFold, GridSearchCV, cross_validate\n",
        "from sklearn.pipeline import Pipeline\n",
        "from sklearn.preprocessing import StandardScaler\n",
        "from sklearn.datasets import load_wine\n",
        "data = load_wine()\n",
        "x = data.data\n",
        "y = data.target\n",
        "x.shape, y.shape"
      ],
      "execution_count": 133,
      "outputs": [
        {
          "output_type": "execute_result",
          "data": {
            "text/plain": [
              "((178, 13), (178,))"
            ]
          },
          "metadata": {
            "tags": []
          },
          "execution_count": 133
        }
      ]
    },
    {
      "cell_type": "code",
      "metadata": {
        "id": "5E_G8obrEq97"
      },
      "source": [
        "LR = LogisticRegression(max_iter=10000)\n",
        "KNN = KNeighborsRegressor()\n",
        "kf = KFold(n_splits = 10)"
      ],
      "execution_count": 134,
      "outputs": []
    },
    {
      "cell_type": "code",
      "metadata": {
        "id": "I3I5nhHmJWHq"
      },
      "source": [
        "scores_lr_convencional  = []\n",
        "acuracia_lr_convencional  = []\n",
        "for tr,tx in kf.split(x,y):\n",
        "    x_train = x[tr]\n",
        "    x_test = x[tx]\n",
        "    y_train = y[tr]\n",
        "    y_test = y[tx]\n",
        "    model = LR.fit(x_train,y_train)\n",
        "    predictions = LR.predict(x_test)\n",
        "    acuracia_lr_mod_convencional = accuracy_score(y_test, predictions)\n",
        "    scores_lr_convencional.append(model.score(x_test,y_test))\n",
        "    acuracia_lr_convencional.append(acuracia_lr_mod_convencional)\n"
      ],
      "execution_count": 135,
      "outputs": []
    },
    {
      "cell_type": "code",
      "metadata": {
        "id": "YKn6zveBOGJq"
      },
      "source": [
        "scores_knn_convencional  = []\n",
        "acuracia_knn_convencional  = []\n",
        "for tr,tx in kf.split(x,y):\n",
        "    x_train = x[tr]\n",
        "    x_test = x[tx]\n",
        "    y_train = y[tr]\n",
        "    y_test = y[tx]\n",
        "    model = KNN.fit(x_train,y_train)\n",
        "    predictions = KNN.predict(x_test).astype(int)\n",
        "    scores_knn_convencional.append(model.score(x_test,y_test))\n",
        "    acuracia_knn_mod_convencional = accuracy_score(y_test, predictions)\n",
        "    acuracia_knn_convencional .append(acuracia_knn_mod_convencional)\n"
      ],
      "execution_count": 136,
      "outputs": []
    },
    {
      "cell_type": "code",
      "metadata": {
        "id": "NZiqsYDuSOP5"
      },
      "source": [
        "LR_Al = Pipeline([\n",
        "    (\"pad\", StandardScaler()),\n",
        "    (\"class\", LogisticRegression(max_iter=3000))\n",
        "])\n",
        "\n",
        "parametros = {'n_neighbors': [3, 5, 7]}\n",
        "grid_search_knn = GridSearchCV(KNeighborsRegressor(), parametros, scoring='neg_mean_squared_error')\n",
        "KNN_AL = Pipeline([\n",
        "    (\"pad\", StandardScaler()),\n",
        "    (\"gsknn\", grid_search_knn)\n",
        "])"
      ],
      "execution_count": 137,
      "outputs": []
    },
    {
      "cell_type": "code",
      "metadata": {
        "id": "CMd2qS12So-y"
      },
      "source": [
        "scores_lr_aninhada  = []\n",
        "acuracia_lr_aninhada  = []\n",
        "for tr,tx in kf.split(x,y):\n",
        "    x_train = x[tr]\n",
        "    x_test = x[tx]\n",
        "    y_train = y[tr]\n",
        "    y_test = y[tx]\n",
        "    model = LR_Al.fit(x_train,y_train)\n",
        "    predictions = LR_Al.predict(x_test)\n",
        "    acuracia_mod_n = accuracy_score(y_test, predictions)\n",
        "    scores_lr_aninhada.append(model.score(x_test,y_test))\n",
        "    acuracia_lr_aninhada .append(acuracia_mod_n)"
      ],
      "execution_count": 138,
      "outputs": []
    },
    {
      "cell_type": "code",
      "metadata": {
        "id": "AC0GMhyxSxLJ"
      },
      "source": [
        "scores_knn_aninhada  = []\n",
        "acuracia_knn_aninhada  = []\n",
        "for tr,tx in kf.split(x,y):\n",
        "    x_train = x[tr]\n",
        "    x_test = x[tx]\n",
        "    y_train = y[tr]\n",
        "    y_test = y[tx]\n",
        "    model = KNN_AL.fit(x_train,y_train)\n",
        "    predictions = KNN_AL.predict(x_test).astype(int)\n",
        "    scores_knn_aninhada.append(model.score(x_test,y_test))\n",
        "    acuracia_mod_n = accuracy_score(y_test, predictions)\n",
        "    acuracia_knn_aninhada .append(acuracia_mod_n)\n"
      ],
      "execution_count": 139,
      "outputs": []
    },
    {
      "cell_type": "code",
      "metadata": {
        "colab": {
          "base_uri": "https://localhost:8080/"
        },
        "id": "VATY9P4kabrA",
        "outputId": "400091d7-814c-4379-ac03-bd241f8c6337"
      },
      "source": [
        "print('###################################################################') \n",
        "print('CONVENCIONAL ')\n",
        "print('###################################################################')   \n",
        "print('K-FOLD LR CONVENCIONAL ')\n",
        "print('___________________________________________________________________')      \n",
        "print('Scores : ', scores_lr_convencional)\n",
        "print('Acuracia: ', acuracia_lr_convencional)\n",
        "print('___________________________________________________________________')   \n",
        "print('Media K-Fold Score :' , np.mean(scores_lr_convencional))\n",
        "print('Media K-Fold Acuracia :' , np.mean(acuracia_lr_convencional))\n",
        "print('___________________________________________________________________')   \n",
        "print('###################################################################')   \n",
        "print('K-FOLD KNN CONVENCIONAL ')\n",
        "print('___________________________________________________________________')     \n",
        "print('Scores : ', scores_knn_convencional)\n",
        "print('Acuracia: ', acuracia_knn_convencional)\n",
        "print('___________________________________________________________________')     \n",
        "print('Media K-Fold Score :' , np.mean(scores_knn_convencional))\n",
        "print('Media K-Fold Acuracia :' , np.mean(acuracia_knn_convencional))\n",
        "print('___________________________________________________________________')   \n",
        "print('###################################################################')\n",
        "print('ANINHADA ')\n",
        "print('###################################################################')\n",
        "print('K-FOLD LR ANINHADA ')   \n",
        "print('___________________________________________________________________')     \n",
        "print('Scores : ', scores_lr_aninhada)\n",
        "print('Acuracia: ', acuracia)\n",
        "print('___________________________________________________________________')     \n",
        "print('Meida K-Fold Score :' , np.mean(scores_lr_aninhada))\n",
        "print('Media K-Fold Acuracia :' , np.mean(acuracia_lr_aninhada )) \n",
        "print('___________________________________________________________________')   \n",
        "print('###################################################################')\n",
        "print('K-FOLD KNN ANINHADA ')    \n",
        "print('___________________________________________________________________')     \n",
        "print('Scores : ', scores_knn_aninhada)\n",
        "print('Acuracia: ', acuracia_knn_aninhada)\n",
        "print('___________________________________________________________________')     \n",
        "print('Meida K-Fold Score :' , np.mean(scores_knn_aninhada))\n",
        "print('Media K-Fold Acuracia :' , np.mean(acuracia_knn_aninhada))\n",
        "print('___________________________________________________________________')   \n",
        "print('###################################################################')"
      ],
      "execution_count": 140,
      "outputs": [
        {
          "output_type": "stream",
          "text": [
            "###################################################################\n",
            "CONVENCIONAL \n",
            "###################################################################\n",
            "K-FOLD LR CONVENCIONAL \n",
            "___________________________________________________________________\n",
            "Scores :  [1.0, 0.8888888888888888, 1.0, 0.8888888888888888, 0.8888888888888888, 0.9444444444444444, 1.0, 0.8888888888888888, 1.0, 1.0]\n",
            "Acuracia:  [1.0, 0.8888888888888888, 1.0, 0.8888888888888888, 0.8888888888888888, 0.9444444444444444, 1.0, 0.8888888888888888, 1.0, 1.0]\n",
            "___________________________________________________________________\n",
            "Media K-Fold Score : 0.95\n",
            "Media K-Fold Acuracia : 0.95\n",
            "___________________________________________________________________\n",
            "###################################################################\n",
            "K-FOLD KNN CONVENCIONAL \n",
            "___________________________________________________________________\n",
            "Scores :  [0.0, 0.0, 0.0, 0.5901538461538463, 0.0, 0.0, 0.0, -0.774285714285714, 0.0, 0.0]\n",
            "Acuracia:  [0.9444444444444444, 0.7777777777777778, 0.8333333333333334, 0.9444444444444444, 0.7777777777777778, 0.8888888888888888, 0.9444444444444444, 0.2222222222222222, 0.0, 0.0]\n",
            "___________________________________________________________________\n",
            "Media K-Fold Score : -0.018413186813186776\n",
            "Media K-Fold Acuracia : 0.6333333333333333\n",
            "___________________________________________________________________\n",
            "###################################################################\n",
            "ANINHADA \n",
            "###################################################################\n",
            "K-FOLD LR ANINHADA \n",
            "___________________________________________________________________\n",
            "Scores :  [1.0, 0.9444444444444444, 0.9444444444444444, 0.8888888888888888, 0.9444444444444444, 1.0, 1.0, 0.9444444444444444, 1.0, 1.0]\n",
            "Acuracia:  [1.0, 1.0, 1.0, 1.0, 0.8888888888888888, 1.0, 1.0, 0.8888888888888888, 0.8888888888888888, 0.8888888888888888, 1.0, 1.0, 1.0, 1.0, 0.7777777777777778, 1.0, 1.0, 1.0, 1.0, 1.0]\n",
            "___________________________________________________________________\n",
            "Meida K-Fold Score : 0.9666666666666666\n",
            "Media K-Fold Acuracia : 0.9666666666666666\n",
            "___________________________________________________________________\n",
            "###################################################################\n",
            "K-FOLD KNN ANINHADA \n",
            "___________________________________________________________________\n",
            "Scores :  [-0.0, -0.018140589569160995, -0.013333333333333336, -0.11451247165532881, -0.12698412698412698, -0.04308390022675737, -0.11333333333333334, -0.0617283950617284, -0.0, -0.0]\n",
            "Acuracia:  [1.0, 1.0, 1.0, 0.7222222222222222, 0.6666666666666666, 0.8333333333333334, 0.6666666666666666, 0.7777777777777778, 1.0, 1.0]\n",
            "___________________________________________________________________\n",
            "Meida K-Fold Score : -0.04911161501637692\n",
            "Media K-Fold Acuracia : 0.8666666666666668\n",
            "___________________________________________________________________\n",
            "###################################################################\n"
          ],
          "name": "stdout"
        }
      ]
    }
  ]
}