{
  "nbformat": 4,
  "nbformat_minor": 0,
  "metadata": {
    "kernelspec": {
      "display_name": "Python 3",
      "language": "python",
      "name": "python3"
    },
    "language_info": {
      "codemirror_mode": {
        "name": "ipython",
        "version": 3
      },
      "file_extension": ".py",
      "mimetype": "text/x-python",
      "name": "python",
      "nbconvert_exporter": "python",
      "pygments_lexer": "ipython3",
      "version": "3.7.10"
    },
    "colab": {
      "name": "titanic.ipynb",
      "provenance": [],
      "collapsed_sections": []
    }
  },
  "cells": [
    {
      "cell_type": "code",
      "metadata": {
        "id": "yT5i6VXtWnuu"
      },
      "source": [
        "import pandas as pd\n",
        "train = pd.read_csv('/content/drive/MyDrive/Datasets/titanic/train.csv')\n",
        "test = pd.read_csv('/content/drive/MyDrive/Datasets/titanic/test.csv')\n",
        "X = train[list(test.columns)]\n",
        "y = train[train.columns[~train.columns.isin(test.columns)]]\n"
      ],
      "execution_count": 198,
      "outputs": []
    },
    {
      "cell_type": "code",
      "metadata": {
        "id": "O3-0xDZuSIC_",
        "colab": {
          "base_uri": "https://localhost:8080/"
        },
        "outputId": "fe4899ab-855f-43be-bf7c-07b05679ac76"
      },
      "source": [
        "from google.colab import drive\n",
        "drive.mount('/content/drive')"
      ],
      "execution_count": 199,
      "outputs": [
        {
          "output_type": "stream",
          "text": [
            "Drive already mounted at /content/drive; to attempt to forcibly remount, call drive.mount(\"/content/drive\", force_remount=True).\n"
          ],
          "name": "stdout"
        }
      ]
    },
    {
      "cell_type": "code",
      "metadata": {
        "id": "ZJX064AUWnuz"
      },
      "source": [
        "from sklearn.base import BaseEstimator, TransformerMixin\n",
        "\n",
        "def extraiPronome(nome):\n",
        "    return nome.split(',')[1].split('.')[0].strip()\n",
        "\n",
        "class AtributosDesejados(BaseEstimator, TransformerMixin):\n",
        "    def __init__(self, excluirName=True):\n",
        "        self.excluirName = excluirName\n",
        "    def fit(self, X, y=None):\n",
        "        self.colunasIndesejadas = ['PassengerId', 'Ticket', 'Cabin']\n",
        "        if self.excluirName:\n",
        "            self.colunasIndesejadas.append('Name')\n",
        "        return self\n",
        "    def transform(self, X, y=None):\n",
        "        Xdrop = X.drop(self.colunasIndesejadas,axis=1)\n",
        "        if 'Name' not in self.colunasIndesejadas:\n",
        "            Xdrop['Name'] = Xdrop['Name'].apply(extraiPronome)\n",
        "        return Xdrop\n"
      ],
      "execution_count": 200,
      "outputs": []
    },
    {
      "cell_type": "code",
      "metadata": {
        "id": "YMHXzmn8Wnu2"
      },
      "source": [
        "from sklearn.base import BaseEstimator, TransformerMixin\n",
        "\n",
        "class AtributosNumericos(BaseEstimator, TransformerMixin):\n",
        "    def fit(self, X, y=None):\n",
        "        self.colunasNumericas = X.select_dtypes(include='number').columns\n",
        "        return self\n",
        "    def transform(self, X, y=None):\n",
        "        return X[self.colunasNumericas].to_numpy()\n"
      ],
      "execution_count": 201,
      "outputs": []
    },
    {
      "cell_type": "code",
      "metadata": {
        "id": "Bv6fKoqGWnu3"
      },
      "source": [
        "from sklearn.base import BaseEstimator, TransformerMixin\n",
        "\n",
        "class AtributosCategoricos(BaseEstimator, TransformerMixin):\n",
        "    def fit(self, X, y=None):\n",
        "        self.colunasCategoricas = X.select_dtypes(include='object').columns\n",
        "        return self\n",
        "    def transform(self, X, y=None):\n",
        "        return X[self.colunasCategoricas].to_numpy()\n"
      ],
      "execution_count": 202,
      "outputs": []
    },
    {
      "cell_type": "code",
      "metadata": {
        "id": "LBGv49NMWnu4"
      },
      "source": [
        "from sklearn.impute import SimpleImputer\n",
        "from sklearn.preprocessing import OneHotEncoder, StandardScaler\n",
        "from sklearn.pipeline import Pipeline, FeatureUnion\n",
        "\n",
        "trataAtributos = Pipeline([\n",
        "    ('unecaracteristicas', FeatureUnion([\n",
        "        ('pipenum', Pipeline([\n",
        "            ('atributos_numericos', AtributosNumericos()),\n",
        "            ('imputer', SimpleImputer(strategy='median')),\n",
        "            ('scaler', StandardScaler())\n",
        "        ])),\n",
        "        ('pipecat', Pipeline([\n",
        "            ('atributos_categoricos', AtributosCategoricos()),\n",
        "            ('imputer', SimpleImputer(strategy='most_frequent')),\n",
        "            ('encoder', OneHotEncoder(handle_unknown='ignore'))\n",
        "        ]))\n",
        "    ])),\n",
        "])\n"
      ],
      "execution_count": 203,
      "outputs": []
    },
    {
      "cell_type": "code",
      "metadata": {
        "colab": {
          "base_uri": "https://localhost:8080/"
        },
        "id": "9FFIYw4QkIsx",
        "outputId": "97f8dc30-d1f5-42ee-b4e3-09e9b3676c74"
      },
      "source": [
        "\r\n",
        "modelo.best_params_"
      ],
      "execution_count": 204,
      "outputs": [
        {
          "output_type": "execute_result",
          "data": {
            "text/plain": [
              "{'atributosDesejados__excluirName': False,\n",
              " 'classificador__eta': 0.06,\n",
              " 'classificador__gamma': 0.2,\n",
              " 'classificador__max_depth': 5,\n",
              " 'classificador__n_estimators': 70,\n",
              " 'classificador__reg_lambda': 1}"
            ]
          },
          "metadata": {
            "tags": []
          },
          "execution_count": 204
        }
      ]
    },
    {
      "cell_type": "code",
      "metadata": {
        "id": "Cnc6JKAFtIZd",
        "colab": {
          "base_uri": "https://localhost:8080/"
        },
        "outputId": "161dd8ca-6d75-4c1b-c757-21295930cece"
      },
      "source": [
        "from sklearn.ensemble import RandomForestClassifier\r\n",
        "from xgboost import XGBClassifier\r\n",
        "from sklearn.model_selection import GridSearchCV, cross_validate, RepeatedKFold\r\n",
        "import numpy as np\r\n",
        "\r\n",
        "pipetotal = Pipeline([\r\n",
        "    ('atributosDesejados', AtributosDesejados()),\r\n",
        "    ('trataAtributos', trataAtributos),\r\n",
        "    ('classificador',  XGBClassifier())\r\n",
        "])\r\n",
        "\r\n",
        "parametros = {\r\n",
        "    'atributosDesejados__excluirName': [True, False],\r\n",
        "     'classificador__max_depth': [5],\r\n",
        "    \"classificador__n_estimators\":[70],\r\n",
        "    'classificador__reg_lambda':[1],\r\n",
        "    'classificador__gamma':[0.2],\r\n",
        "    'classificador__eta':[0.06]\r\n",
        "}\r\n",
        "modelo = GridSearchCV(pipetotal, param_grid=parametros)\r\n",
        "\r\n",
        "scores = cross_validate(modelo, X, y, scoring='roc_auc_ovo_weighted',cv=RepeatedKFold(n_splits=20, n_repeats=3, random_state=10),n_jobs=-1)\r\n",
        "scores['test_score'], np.mean(scores['test_score']), np.std(scores['test_score'])"
      ],
      "execution_count": 205,
      "outputs": [
        {
          "output_type": "execute_result",
          "data": {
            "text/plain": [
              "(array([0.86298077, 0.84051724, 0.96230159, 0.91666667, 0.88888889,\n",
              "        0.91563786, 0.87931034, 0.85084034, 0.89915966, 0.89676113,\n",
              "        0.81719368, 0.86547619, 0.76897321, 0.80991736, 0.87581699,\n",
              "        0.91190476, 0.87606838, 0.89166667, 0.8125    , 0.97142857,\n",
              "        0.88492063, 0.82888889, 0.73989899, 0.93849206, 0.83502024,\n",
              "        0.89888889, 0.88683128, 0.85119048, 0.85666667, 0.86842105,\n",
              "        0.97777778, 0.85921325, 0.86324786, 0.91666667, 0.97701149,\n",
              "        0.91735537, 0.81640625, 0.87286325, 0.84161491, 0.88275862,\n",
              "        0.93686869, 0.856     , 0.90651261, 0.88663968, 0.82444444,\n",
              "        0.80777778, 0.84670782, 0.88888889, 0.95798319, 0.91777778,\n",
              "        0.90688259, 0.85379464, 0.77619048, 0.79910714, 0.84151786,\n",
              "        0.85977011, 0.84597701, 0.8540305 , 0.92094017, 0.85894737]),\n",
              " 0.8729150612274404,\n",
              " 0.04984094721669545)"
            ]
          },
          "metadata": {
            "tags": []
          },
          "execution_count": 205
        }
      ]
    },
    {
      "cell_type": "code",
      "metadata": {
        "id": "5R5aJ-vqQgXX"
      },
      "source": [
        "modelo.fit(X,y)\r\n",
        "y_pred = modelo.predict(test)\r\n",
        "result = test[['PassengerId']]\r\n",
        "result['Survived'] = y_pred\r\n",
        "result.to_csv('submission.csv',index=False)"
      ],
      "execution_count": null,
      "outputs": []
    }
  ]
}