{
  "nbformat": 4,
  "nbformat_minor": 0,
  "metadata": {
    "colab": {
      "name": "Atividade4.ipynb",
      "provenance": [],
      "collapsed_sections": []
    },
    "kernelspec": {
      "name": "python3",
      "display_name": "Python 3"
    }
  },
  "cells": [
    {
      "cell_type": "code",
      "metadata": {
        "id": "vNbJ9nZXDWvD"
      },
      "source": [
        "import numpy as np\n",
        "from sklearn.linear_model import LogisticRegression\n",
        "from sklearn.neighbors import KNeighborsClassifier\n",
        "from sklearn.metrics import make_scorer, mean_squared_error, accuracy_score\n",
        "from sklearn.model_selection import KFold, GridSearchCV, cross_validate\n",
        "from sklearn.pipeline import Pipeline\n",
        "from sklearn.preprocessing import StandardScaler\n",
        "from sklearn.datasets import load_wine\n",
        "from sklearn.model_selection import train_test_split\n",
        "data = load_wine()\n",
        "X = data.data\n",
        "y = data.target\n"
      ],
      "execution_count": 173,
      "outputs": []
    },
    {
      "cell_type": "code",
      "metadata": {
        "id": "5E_G8obrEq97"
      },
      "source": [
        "LR = LogisticRegression()\n",
        "KNN = KNeighborsClassifier()\n",
        "kf = KFold(n_splits = 10)"
      ],
      "execution_count": 174,
      "outputs": []
    },
    {
      "cell_type": "code",
      "metadata": {
        "id": "CKjZTXVg60Dr"
      },
      "source": [
        "#linear convencional\n",
        "LR_CONVENCIONAL = Pipeline([\n",
        "    (\"pad\", StandardScaler()),\n",
        "    (\"class\", LogisticRegression())\n",
        "])\n",
        "#LR aninhado\n",
        "parametros_lr_ani = {'max_iter': [1000, 3000, 5000]}\n",
        "grid_search_lr = GridSearchCV(LogisticRegression(), parametros_lr_ani, scoring= make_scorer(mean_squared_error, greater_is_better=False, squared=False))\n",
        "LR_AL = Pipeline([\n",
        "    (\"pad\", StandardScaler()),\n",
        "    (\"class\", grid_search_lr)\n",
        "])\n",
        "\n",
        "#knn convencional\n",
        "KNN_CONVENCIONAL = Pipeline([\n",
        "    (\"pad\", StandardScaler()),\n",
        "    (\"class\", KNeighborsClassifier())\n",
        "])\n",
        "\n",
        "#knn aninhado\n",
        "parametros_knn_ani = {'n_neighbors': [3, 5, 7]}\n",
        "grid_search_knn = GridSearchCV(KNeighborsClassifier(), parametros_knn_ani, scoring= make_scorer(mean_squared_error, greater_is_better=False, squared=False))\n",
        "KNN_AN = Pipeline([\n",
        "    (\"pad\", StandardScaler()),\n",
        "    (\"class\", grid_search_knn)\n",
        "])"
      ],
      "execution_count": 175,
      "outputs": []
    },
    {
      "cell_type": "code",
      "metadata": {
        "id": "I3I5nhHmJWHq"
      },
      "source": [
        "scores_lr_convencional  = []\n",
        "acuracia_lr_convencional  = []\n",
        "for tr,tx in kf.split(X,y):\n",
        "    x_train = x[tr]\n",
        "    x_test = x[tx]\n",
        "    y_train = y[tr]\n",
        "    y_test = y[tx]\n",
        "    model = LR_CONVENCIONAL.fit(x_train,y_train)\n",
        "    predictions = LR_CONVENCIONAL.predict(x_test)\n",
        "    acuracia_lr_mod_convencional = accuracy_score(y_test, predictions)\n",
        "    acuracia_lr_convencional.append(acuracia_lr_mod_convencional)\n"
      ],
      "execution_count": 176,
      "outputs": []
    },
    {
      "cell_type": "code",
      "metadata": {
        "id": "YKn6zveBOGJq"
      },
      "source": [
        "scores_knn_convencional  = []\n",
        "acuracia_knn_convencional  = []\n",
        "for tr,tx in kf.split(X,y):\n",
        "    x_train = x[tr]\n",
        "    x_test = x[tx]\n",
        "    y_train = y[tr]\n",
        "    y_test = y[tx]\n",
        "    model = KNN_CONVENCIONAL.fit(x_train,y_train)\n",
        "    predictions = KNN_CONVENCIONAL.predict(x_test)\n",
        "    acuracia_knn_mod_convencional = accuracy_score(y_test, predictions)\n",
        "    acuracia_knn_convencional.append(acuracia_knn_mod_convencional)\n"
      ],
      "execution_count": 177,
      "outputs": []
    },
    {
      "cell_type": "code",
      "metadata": {
        "id": "CMd2qS12So-y"
      },
      "source": [
        "scores_lr_aninhada  = []\n",
        "acuracia_lr_aninhada  = []\n",
        "for tr,tx in kf.split(X,y):\n",
        "    x_train = x[tr]\n",
        "    x_test = x[tx]\n",
        "    y_train = y[tr]\n",
        "    y_test = y[tx]\n",
        "    model = LR_Al.fit(x_train,y_train)\n",
        "    predictions = LR_Al.predict(x_test)\n",
        "    acuracia_mod_n = accuracy_score(y_test, predictions)\n",
        "    acuracia_lr_aninhada .append(acuracia_mod_n)"
      ],
      "execution_count": 178,
      "outputs": []
    },
    {
      "cell_type": "code",
      "metadata": {
        "id": "AC0GMhyxSxLJ"
      },
      "source": [
        "scores_knn_aninhada  = []\n",
        "acuracia_knn_aninhada  = []\n",
        "for tr,tx in kf.split(X,y):\n",
        "    x_train = x[tr]\n",
        "    x_test = x[tx]\n",
        "    y_train = y[tr]\n",
        "    y_test = y[tx]\n",
        "    model = KNN_AN.fit(x_train,y_train)\n",
        "    predictions = KNN_AN.predict(x_test)\n",
        "    acuracia_mod_n = accuracy_score(y_test, predictions)\n",
        "    acuracia_knn_aninhada.append(acuracia_mod_n)"
      ],
      "execution_count": 179,
      "outputs": []
    },
    {
      "cell_type": "code",
      "metadata": {
        "colab": {
          "base_uri": "https://localhost:8080/"
        },
        "id": "VATY9P4kabrA",
        "outputId": "ad22649b-1d83-4f13-9855-470e4e2cc786"
      },
      "source": [
        "print('###################################################################') \n",
        "print('CONVENCIONAL ')\n",
        "print('###################################################################')   \n",
        "print('K-FOLD LR CONVENCIONAL ')\n",
        "print('___________________________________________________________________')      \n",
        "print('Acuracia: ', acuracia_lr_convencional)\n",
        "print('___________________________________________________________________')   \n",
        "print('K-Fold Variancia :' , np.var(acuracia_lr_convencional))\n",
        "print('K-Fold Desvio Padrão :' , np.std(acuracia_lr_convencional))\n",
        "print('Media K-Fold Acuracia :' , np.mean(acuracia_lr_convencional))\n",
        "print('___________________________________________________________________')   \n",
        "print('###################################################################')   \n",
        "print('K-FOLD KNN CONVENCIONAL ')\n",
        "print('___________________________________________________________________')     \n",
        "print('Acuracia: ', acuracia_knn_convencional)\n",
        "print('___________________________________________________________________')     \n",
        "print('K-Fold Variancia :' , np.var(acuracia_knn_convencional))\n",
        "print('K-Fold Desvio Padrão :' , np.std(acuracia_knn_convencional))\n",
        "print('Media K-Fold Acuracia :' , np.mean(acuracia_knn_convencional))\n",
        "print('___________________________________________________________________')   \n",
        "print('###################################################################')\n",
        "print('ANINHADA ')\n",
        "print('###################################################################')\n",
        "print('K-FOLD LR ANINHADA ')   \n",
        "print('___________________________________________________________________')     \n",
        "print('Acuracia: ', acuracia_lr_aninhada)\n",
        "print('___________________________________________________________________')     \n",
        "print('K-Fold Variancia :' , np.var(acuracia_lr_aninhada))\n",
        "print('K-Fold Desvio Padrão :' , np.std(acuracia_lr_aninhada))\n",
        "print('Media K-Fold Acuracia :' , np.mean(acuracia_lr_aninhada )) \n",
        "print('___________________________________________________________________')   \n",
        "print('###################################################################')\n",
        "print('K-FOLD KNN ANINHADA ')    \n",
        "print('___________________________________________________________________')     \n",
        "print('Acuracia: ', acuracia_knn_aninhada)\n",
        "print('___________________________________________________________________')     \n",
        "print('K-Fold Variancia :' , np.var(acuracia_knn_aninhada))\n",
        "print('K-Fold Desvio Padrão :' , np.std(acuracia_knn_aninhada))\n",
        "print('Media K-Fold Acuracia :' , np.mean(acuracia_knn_aninhada))\n",
        "print('___________________________________________________________________')   \n",
        "print('###################################################################')"
      ],
      "execution_count": 180,
      "outputs": [
        {
          "output_type": "stream",
          "text": [
            "###################################################################\n",
            "CONVENCIONAL \n",
            "###################################################################\n",
            "K-FOLD LR CONVENCIONAL \n",
            "___________________________________________________________________\n",
            "Acuracia:  [1.0, 0.9444444444444444, 0.9444444444444444, 0.8888888888888888, 0.9444444444444444, 1.0, 1.0, 0.9444444444444444, 1.0, 1.0]\n",
            "___________________________________________________________________\n",
            "K-Fold Variancia : 0.0013580246913580262\n",
            "K-Fold Desvio Padrão : 0.03685138655950446\n",
            "Media K-Fold Acuracia : 0.9666666666666666\n",
            "___________________________________________________________________\n",
            "###################################################################\n",
            "K-FOLD KNN CONVENCIONAL \n",
            "___________________________________________________________________\n",
            "Acuracia:  [1.0, 1.0, 1.0, 0.8333333333333334, 0.8333333333333334, 0.9444444444444444, 0.8888888888888888, 0.8888888888888888, 1.0, 1.0]\n",
            "___________________________________________________________________\n",
            "Media K-Fold Variancia : 0.004598765432098764\n",
            "K-Fold Desvio Padrão : 0.06781419786518723\n",
            "Media K-Fold Acuracia : 0.9388888888888889\n",
            "___________________________________________________________________\n",
            "###################################################################\n",
            "ANINHADA \n",
            "###################################################################\n",
            "K-FOLD LR ANINHADA \n",
            "___________________________________________________________________\n",
            "Acuracia:  [1.0, 0.9444444444444444, 0.9444444444444444, 0.8888888888888888, 0.9444444444444444, 1.0, 1.0, 0.9444444444444444, 1.0, 1.0]\n",
            "___________________________________________________________________\n",
            "Medida K-Fold Variancia : 0.0013580246913580262\n",
            "K-Fold Desvio Padrão : 0.03685138655950446\n",
            "Media K-Fold Acuracia : 0.9666666666666666\n",
            "___________________________________________________________________\n",
            "###################################################################\n",
            "K-FOLD KNN ANINHADA \n",
            "___________________________________________________________________\n",
            "Acuracia:  [1.0, 1.0, 0.9444444444444444, 0.8333333333333334, 0.8333333333333334, 0.8888888888888888, 0.8333333333333334, 0.8888888888888888, 1.0, 1.0]\n",
            "___________________________________________________________________\n",
            "Medida K-Fold Variancia : 0.005061728395061727\n",
            "K-Fold Desvio Padrão : 0.07114582486036497\n",
            "Media K-Fold Acuracia : 0.9222222222222222\n",
            "___________________________________________________________________\n",
            "###################################################################\n"
          ],
          "name": "stdout"
        }
      ]
    }
  ]
}