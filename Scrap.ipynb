{
  "nbformat": 4,
  "nbformat_minor": 0,
  "metadata": {
    "colab": {
      "name": "Scrap.ipynb",
      "provenance": [],
      "collapsed_sections": [],
      "mount_file_id": "18dZxRwbWzNZLqLvA6wkD-qQ6qPid3hqg",
      "authorship_tag": "ABX9TyOi5pA+b8QJ50r7NEYNGH8k",
      "include_colab_link": true
    },
    "kernelspec": {
      "display_name": "Python 3",
      "name": "python3"
    }
  },
  "cells": [
    {
      "cell_type": "markdown",
      "metadata": {
        "id": "view-in-github",
        "colab_type": "text"
      },
      "source": [
        "<a href=\"https://colab.research.google.com/github/JsantosAn/Mestrado/blob/main/Scrap.ipynb\" target=\"_parent\"><img src=\"https://colab.research.google.com/assets/colab-badge.svg\" alt=\"Open In Colab\"/></a>"
      ]
    },
    {
      "cell_type": "markdown",
      "metadata": {
        "id": "tH0QxoY3D8qw"
      },
      "source": [
        "## ***Web Scraping Google Scholar***\r\n",
        "\r\n",
        "> **Usei selenium para pegar o proximo link, mais ainda precisa melhorar o codigo \r\n",
        "> **Resumo do codigo - useia biblioteca bs4 pra fazer toda a magica, fiz um for pra percorrer a lista com os links em seguida a biblioteca requests faz a conecta com o site e entra em cada perfil disponivel na pagina são 10 por paginas, logo pega os dados da publicação e o nome dos autores e insire em um DataFrame.**\r\n",
        "\r\n",
        "\r\n",
        "\r\n",
        "\r\n"
      ]
    },
    {
      "cell_type": "code",
      "metadata": {
        "id": "8pY7CS-9ZAiC"
      },
      "source": [
        "import requests\n",
        "from bs4 import BeautifulSoup\n",
        "import pandas as pd\n",
        "import re\n",
        "#url_autores = ['https://scholar.google.com.br/citations?view_op=search_authors&hl=pt-BR&mauthors=label:ontologies',\n",
        "               #'https://scholar.google.com.br/citations?view_op=search_authors&hl=pt-BR&mauthors=label:ontologies&after_author=JUkPAM2m__8J&astart=10',\n",
        "               #'https://scholar.google.com.br/citations?view_op=search_authors&hl=pt-BR&mauthors=label:ontologies&after_author=ImIAACXR__8J&astart=20',\n",
        "               #'https://scholar.google.com.br/citations?view_op=search_authors&hl=pt-BR&mauthors=label:ontologies&after_author=C9pGAALj__8J&astart=30',\n",
        "               #'https://scholar.google.com.br/citations?view_op=search_authors&hl=pt-BR&mauthors=label:ontologies&after_author=69QAAJfs__8J&astart=40',\n",
        "               #'https://scholar.google.com.br/citations?view_op=search_authors&hl=pt-BR&mauthors=label:ontologies&after_author=tkYLAOnv__8J&astart=50',\n",
        "               #'https://scholar.google.com.br/citations?view_op=search_authors&hl=pt-BR&mauthors=label:ontologies&after_author=sZmLAJby__8J&astart=60',\n",
        "               #'https://scholar.google.com.br/citations?view_op=search_authors&hl=pt-BR&mauthors=label:ontologies&after_author=QgsBACb0__8J&astart=70',\n",
        "               #'https://scholar.google.com.br/citations?view_op=search_authors&hl=pt-BR&mauthors=label:ontologies&after_author=Ul4PAGP2__8J&astart=80',\n",
        "               #'https://scholar.google.com.br/citations?view_op=search_authors&hl=pt-BR&mauthors=label:ontologies&after_author=4m4tAM73__8J&astart=90',\n",
        "               #'https://scholar.google.com.br/citations?view_op=search_authors&hl=pt-BR&mauthors=label:ontologies&after_author=RGAeAMX4__8J&astart=100']\n",
        "\n",
        "\n",
        "def buscar_autores(url):\n",
        "    try:\n",
        "        resposta = requests.get(url)\n",
        "        if resposta.status_code == 200:\n",
        "            return resposta.text\n",
        "        else:\n",
        "            print('Erro de requisição')\n",
        "    except Exception as error:\n",
        "        print('erro ao requisitar')\n",
        "        print(error)\n",
        "\n",
        "def parsing(resposta):\n",
        "    try:\n",
        "        soup = BeautifulSoup(resposta, 'html.parser')\n",
        "        return soup\n",
        "    except Exception as error:\n",
        "        print('error ao fazer o parsing html')\n",
        "        print(error)\n",
        "\n",
        "def get_autor_link(resposta):\n",
        "    soup = BeautifulSoup(resposta, \"html.parser\")\n",
        "    itens = soup.findAll(class_=\"gs_ai_name\")\n",
        "    return [\n",
        "        {\"Autor\": iten.get_text().strip(),\n",
        "         \"link\": 'https://scholar.google.com.br' + iten.find(\"a\").get(\"href\"),\n",
        "         }\n",
        "        for iten in itens]\n",
        "\n",
        "def encontrar_indice(resposta):\n",
        "    rows = resposta.find(id=\"gsc_rsb_st\").find_all('tr')[1:]\n",
        "    lst_data=[]\n",
        "    for row in rows:\n",
        "        cell = [i.text.rstrip() for i in row.find_all('td')]\n",
        "        lst_data.append(cell)    \n",
        "    return lst_data\n",
        "\n",
        "def inicio(url_autores):\n",
        "  autores_name=[]\n",
        "  autores_citacao=[]\n",
        "  autores_ind_h=[]\n",
        "  autores_ind_i=[]\n",
        "  autores_dados =[]\n",
        "  resposta_busca = buscar_autores(url_autores)\n",
        "  if resposta_busca:\n",
        "      links = get_autor_link(resposta_busca)\n",
        "      for link in links:\n",
        "          resposta_autor = buscar_autores(link['link'])\n",
        "          if resposta_autor:\n",
        "              soup_perfil = parsing(resposta_autor)\n",
        "          if soup_perfil:\n",
        "              lista = encontrar_indice(soup_perfil)    \n",
        "              autores_name =  link['Autor']\n",
        "              autores_citacao = re.sub(r\"(^.*?,)|(,.*?$)\", \"\",str( lista[0:1]))\n",
        "              autores_citacao = re.sub(r\"(\\W)\", \"\",str(autores_citacao))\n",
        "              autores_ind_h   = re.sub(r\"(^.*?),|,(.*?$)\", \"\",str(lista[1:2]))\n",
        "              autores_ind_h = re.sub(r\"(\\W)\", \"\",str(autores_ind_h))\n",
        "              autores_ind_i   = re.sub(r\"(^.*?),|,(.*?$)\", \"\",str(lista[2:3]))\n",
        "              autores_ind_i = re.sub(r\"(\\W)\", \"\",str(autores_ind_i))\n",
        "              autores_dados.append( ( autores_name,autores_citacao,autores_ind_h,autores_ind_i))\n",
        "              \n",
        "  return autores_dados\n"
      ],
      "execution_count": 2,
      "outputs": []
    },
    {
      "cell_type": "code",
      "metadata": {
        "id": "BmeC3A3e7uJS"
      },
      "source": [
        "autores_dados = pd.DataFrame()\r\n",
        "for i in range(len(url_autores)):\r\n",
        "  listas=(inicio(url_autores[i]))\r\n",
        "  autores_dados = autores_dados.append(listas)\r\n",
        "autores_dados = autores_dados.rename(columns={0:'Autor',1:'Citacao',2:'Indice h', 3:'Indice i10'})\r\n",
        "autores_dados = autores_dados.set_index('Autor')\r\n"
      ],
      "execution_count": null,
      "outputs": []
    },
    {
      "cell_type": "markdown",
      "metadata": {
        "id": "5bcFD7OrISz7"
      },
      "source": [
        "Automação com Selenium "
      ]
    },
    {
      "cell_type": "code",
      "metadata": {
        "id": "ZPd4H_acDpMk"
      },
      "source": [
        "#Automatização com Selenium \r\n",
        "!pip install kora -q\r\n",
        "from kora.selenium import wd\r\n",
        "from selenium.webdriver.chrome.options import Options\r\n",
        "chrome_options = Options()\r\n",
        "chrome_options.add_argument('--no-sandbox')\r\n",
        "chrome_options.add_argument('--ignore-certificate-errors')\r\n",
        "chrome_options.add_argument('--headless')\r\n",
        "chrome_options.add_argument('--disable-dev-shm-usage')\r\n",
        "from selenium import webdriver\r\n",
        "from selenium.webdriver.support.ui import WebDriverWait\r\n",
        "\r\n",
        "wd.get(\"https://scholar.google.com.br/citations?view_op=search_authors&hl=pt-BR&mauthors=label:ontologies\")\r\n",
        "url_autores = []\r\n",
        "for i in range(20):\r\n",
        "  submit = wd.find_element_by_xpath('/html/body/div/div[8]/div[2]/div/div[11]/div/button[2]')\r\n",
        "  submit.click()\r\n",
        "  wait = WebDriverWait(wd, 60 )\r\n",
        "  link = wd.current_url\r\n",
        "  url_autores.append(link)\r\n",
        "  wd.get(link)\r\n",
        "  \r\n",
        "autores_dados = pd.DataFrame()\r\n",
        "for i in range(len(url_autores)):\r\n",
        "  listas=(inicio(url_autores[i]))\r\n",
        "  autores_dados = autores_dados.append(listas)\r\n",
        "autores_dados = autores_dados.rename(columns={0:'Autor',1:'Citacao',2:'Indice h', 3:'Indice i10'})\r\n",
        "autores_dados = autores_dados.set_index('Autor')\r\n"
      ],
      "execution_count": 7,
      "outputs": []
    },
    {
      "cell_type": "markdown",
      "metadata": {
        "id": "T3gNhsVqIViL"
      },
      "source": [
        "-------------------------------------------------------------------------"
      ]
    },
    {
      "cell_type": "code",
      "metadata": {
        "id": "mMKORfc1C7aZ",
        "colab": {
          "base_uri": "https://localhost:8080/",
          "height": 446
        },
        "outputId": "d6b6253c-cae9-4340-9d76-af04863dbad8"
      },
      "source": [
        "autores_dados.head(200)"
      ],
      "execution_count": 8,
      "outputs": [
        {
          "output_type": "execute_result",
          "data": {
            "text/html": [
              "<div>\n",
              "<style scoped>\n",
              "    .dataframe tbody tr th:only-of-type {\n",
              "        vertical-align: middle;\n",
              "    }\n",
              "\n",
              "    .dataframe tbody tr th {\n",
              "        vertical-align: top;\n",
              "    }\n",
              "\n",
              "    .dataframe thead th {\n",
              "        text-align: right;\n",
              "    }\n",
              "</style>\n",
              "<table border=\"1\" class=\"dataframe\">\n",
              "  <thead>\n",
              "    <tr style=\"text-align: right;\">\n",
              "      <th></th>\n",
              "      <th>Citacao</th>\n",
              "      <th>Indice h</th>\n",
              "      <th>Indice i10</th>\n",
              "    </tr>\n",
              "    <tr>\n",
              "      <th>Autor</th>\n",
              "      <th></th>\n",
              "      <th></th>\n",
              "      <th></th>\n",
              "    </tr>\n",
              "  </thead>\n",
              "  <tbody>\n",
              "    <tr>\n",
              "      <th>Lynn Schriml</th>\n",
              "      <td>22387</td>\n",
              "      <td>37</td>\n",
              "      <td>66</td>\n",
              "    </tr>\n",
              "    <tr>\n",
              "      <th>Peter Robinson</th>\n",
              "      <td>20269</td>\n",
              "      <td>79</td>\n",
              "      <td>242</td>\n",
              "    </tr>\n",
              "    <tr>\n",
              "      <th>Mark S Fox</th>\n",
              "      <td>17816</td>\n",
              "      <td>62</td>\n",
              "      <td>155</td>\n",
              "    </tr>\n",
              "    <tr>\n",
              "      <th>Werner Nutt</th>\n",
              "      <td>17273</td>\n",
              "      <td>37</td>\n",
              "      <td>77</td>\n",
              "    </tr>\n",
              "    <tr>\n",
              "      <th>Michael Gruninger</th>\n",
              "      <td>15755</td>\n",
              "      <td>41</td>\n",
              "      <td>97</td>\n",
              "    </tr>\n",
              "    <tr>\n",
              "      <th>...</th>\n",
              "      <td>...</td>\n",
              "      <td>...</td>\n",
              "      <td>...</td>\n",
              "    </tr>\n",
              "    <tr>\n",
              "      <th>Nataliya Keberle</th>\n",
              "      <td>517</td>\n",
              "      <td>12</td>\n",
              "      <td>18</td>\n",
              "    </tr>\n",
              "    <tr>\n",
              "      <th>Emma Norris</th>\n",
              "      <td>511</td>\n",
              "      <td>11</td>\n",
              "      <td>13</td>\n",
              "    </tr>\n",
              "    <tr>\n",
              "      <th>Hajer Baazaoui Zghal</th>\n",
              "      <td>510</td>\n",
              "      <td>12</td>\n",
              "      <td>18</td>\n",
              "    </tr>\n",
              "    <tr>\n",
              "      <th>Henrik Dibowski</th>\n",
              "      <td>509</td>\n",
              "      <td>13</td>\n",
              "      <td>16</td>\n",
              "    </tr>\n",
              "    <tr>\n",
              "      <th>Auriol Degbelo</th>\n",
              "      <td>505</td>\n",
              "      <td>11</td>\n",
              "      <td>15</td>\n",
              "    </tr>\n",
              "  </tbody>\n",
              "</table>\n",
              "<p>200 rows × 3 columns</p>\n",
              "</div>"
            ],
            "text/plain": [
              "                     Citacao Indice h Indice i10\n",
              "Autor                                           \n",
              "Lynn Schriml           22387       37         66\n",
              "Peter Robinson         20269       79        242\n",
              "Mark S Fox             17816       62        155\n",
              "Werner Nutt            17273       37         77\n",
              "Michael Gruninger      15755       41         97\n",
              "...                      ...      ...        ...\n",
              "Nataliya Keberle         517       12         18\n",
              "Emma Norris              511       11         13\n",
              "Hajer Baazaoui Zghal     510       12         18\n",
              "Henrik Dibowski          509       13         16\n",
              "Auriol Degbelo           505       11         15\n",
              "\n",
              "[200 rows x 3 columns]"
            ]
          },
          "metadata": {
            "tags": []
          },
          "execution_count": 8
        }
      ]
    },
    {
      "cell_type": "markdown",
      "metadata": {
        "id": "u-9awkRI4CJH"
      },
      "source": [
        "Gerar csv "
      ]
    },
    {
      "cell_type": "code",
      "metadata": {
        "id": "YGlAVvDwLFyM"
      },
      "source": [
        "autores_dados.to_csv('file_name.csv', sep=';', encoding='utf-8', index=True)"
      ],
      "execution_count": null,
      "outputs": []
    }
  ]
}