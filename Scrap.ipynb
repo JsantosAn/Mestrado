{
  "nbformat": 4,
  "nbformat_minor": 0,
  "metadata": {
    "colab": {
      "name": "Scrap.ipynb",
      "provenance": [],
      "collapsed_sections": [],
      "mount_file_id": "18dZxRwbWzNZLqLvA6wkD-qQ6qPid3hqg",
      "authorship_tag": "ABX9TyOt+OriSctyOxij2CYgGjkp",
      "include_colab_link": true
    },
    "kernelspec": {
      "display_name": "Python 3",
      "name": "python3"
    }
  },
  "cells": [
    {
      "cell_type": "markdown",
      "metadata": {
        "id": "view-in-github",
        "colab_type": "text"
      },
      "source": [
        "<a href=\"https://colab.research.google.com/github/JsantosAn/Mestrado/blob/main/Scrap.ipynb\" target=\"_parent\"><img src=\"https://colab.research.google.com/assets/colab-badge.svg\" alt=\"Open In Colab\"/></a>"
      ]
    },
    {
      "cell_type": "markdown",
      "metadata": {
        "id": "tH0QxoY3D8qw"
      },
      "source": [
        "## ***Web Scraping Google Scholar***\r\n",
        "\r\n",
        "> **Usei selenium para pegar o proximo link, mais ainda precisa melhorar o codigo \r\n",
        "> **Resumo do codigo - useia biblioteca bs4 pra fazer toda a magica, fiz um for pra percorrer a lista com os links em seguida a biblioteca requests faz a conecta com o site e entra em cada perfil disponivel na pagina são 10 por paginas, logo pega os dados da publicação e o nome dos autores e insire em um DataFrame.**\r\n",
        "\r\n",
        "\r\n",
        "\r\n",
        "\r\n"
      ]
    },
    {
      "cell_type": "code",
      "metadata": {
        "id": "8pY7CS-9ZAiC"
      },
      "source": [
        "import requests\n",
        "from bs4 import BeautifulSoup\n",
        "import pandas as pd\n",
        "import re\n",
        "#url_autores = ['https://scholar.google.com.br/citations?view_op=search_authors&hl=pt-BR&mauthors=label:ontologies',\n",
        "               #'https://scholar.google.com.br/citations?view_op=search_authors&hl=pt-BR&mauthors=label:ontologies&after_author=JUkPAM2m__8J&astart=10',\n",
        "               #'https://scholar.google.com.br/citations?view_op=search_authors&hl=pt-BR&mauthors=label:ontologies&after_author=ImIAACXR__8J&astart=20',\n",
        "               #'https://scholar.google.com.br/citations?view_op=search_authors&hl=pt-BR&mauthors=label:ontologies&after_author=C9pGAALj__8J&astart=30',\n",
        "               #'https://scholar.google.com.br/citations?view_op=search_authors&hl=pt-BR&mauthors=label:ontologies&after_author=69QAAJfs__8J&astart=40',\n",
        "               #'https://scholar.google.com.br/citations?view_op=search_authors&hl=pt-BR&mauthors=label:ontologies&after_author=tkYLAOnv__8J&astart=50',\n",
        "               #'https://scholar.google.com.br/citations?view_op=search_authors&hl=pt-BR&mauthors=label:ontologies&after_author=sZmLAJby__8J&astart=60',\n",
        "               #'https://scholar.google.com.br/citations?view_op=search_authors&hl=pt-BR&mauthors=label:ontologies&after_author=QgsBACb0__8J&astart=70',\n",
        "               #'https://scholar.google.com.br/citations?view_op=search_authors&hl=pt-BR&mauthors=label:ontologies&after_author=Ul4PAGP2__8J&astart=80',\n",
        "               #'https://scholar.google.com.br/citations?view_op=search_authors&hl=pt-BR&mauthors=label:ontologies&after_author=4m4tAM73__8J&astart=90',\n",
        "               #'https://scholar.google.com.br/citations?view_op=search_authors&hl=pt-BR&mauthors=label:ontologies&after_author=RGAeAMX4__8J&astart=100']\n",
        "\n",
        "\n",
        "def buscar_autores(url):\n",
        "    try:\n",
        "        resposta = requests.get(url)\n",
        "        if resposta.status_code == 200:\n",
        "            return resposta.text\n",
        "        else:\n",
        "            print('Erro de requisição')\n",
        "    except Exception as error:\n",
        "        print('erro ao requisitar')\n",
        "        print(error)\n",
        "\n",
        "def parsing(resposta):\n",
        "    try:\n",
        "        soup = BeautifulSoup(resposta, 'html.parser')\n",
        "        return soup\n",
        "    except Exception as error:\n",
        "        print('error ao fazer o parsing html')\n",
        "        print(error)\n",
        "\n",
        "def get_autor_link(resposta):\n",
        "    soup = BeautifulSoup(resposta, \"html.parser\")\n",
        "    itens = soup.findAll(class_=\"gs_ai_name\")\n",
        "    return [\n",
        "        {\"Autor\": iten.get_text().strip(),\n",
        "         \"link\": 'https://scholar.google.com.br' + iten.find(\"a\").get(\"href\"),\n",
        "         }\n",
        "        for iten in itens]\n",
        "\n",
        "def encontrar_indice(resposta):\n",
        "    rows = resposta.find(id=\"gsc_rsb_st\").find_all('tr')[1:]\n",
        "    lst_data=[]\n",
        "    for row in rows:\n",
        "        cell = [i.text.rstrip() for i in row.find_all('td')]\n",
        "        lst_data.append(cell)    \n",
        "    return lst_data\n",
        "\n",
        "def inicio(url_autores):\n",
        "  autores_name=[]\n",
        "  autores_citacao=[]\n",
        "  autores_ind_h=[]\n",
        "  autores_ind_i=[]\n",
        "  autores_dados =[]\n",
        "  resposta_busca = buscar_autores(url_autores)\n",
        "  if resposta_busca:\n",
        "      links = get_autor_link(resposta_busca)\n",
        "      for link in links:\n",
        "          resposta_autor = buscar_autores(link['link'])\n",
        "          if resposta_autor:\n",
        "              soup_perfil = parsing(resposta_autor)\n",
        "          if soup_perfil:\n",
        "              lista = encontrar_indice(soup_perfil)    \n",
        "              autores_name =  link['Autor']\n",
        "              autores_citacao = re.sub(r\"(^.*?,)|(,.*?$)\", \"\",str( lista[0:1]))\n",
        "              autores_citacao = re.sub(r\"(\\W)\", \"\",str(autores_citacao))\n",
        "              autores_ind_h   = re.sub(r\"(^.*?),|,(.*?$)\", \"\",str(lista[1:2]))\n",
        "              autores_ind_h = re.sub(r\"(\\W)\", \"\",str(autores_ind_h))\n",
        "              autores_ind_i   = re.sub(r\"(^.*?),|,(.*?$)\", \"\",str(lista[2:3]))\n",
        "              autores_ind_i = re.sub(r\"(\\W)\", \"\",str(autores_ind_i))\n",
        "              autores_dados.append( ( autores_name,autores_citacao,autores_ind_h\n",
        "                                     ,autores_ind_i))\n",
        "              \n",
        "  return autores_dados\n"
      ],
      "execution_count": 1,
      "outputs": []
    },
    {
      "cell_type": "code",
      "metadata": {
        "id": "BmeC3A3e7uJS"
      },
      "source": [
        "#autores_dados = pd.DataFrame()\r\n",
        "#for i in range(len(url_autores)):\r\n",
        " # listas=(inicio(url_autores[i]))\r\n",
        "  #autores_dados = autores_dados.append(listas)\r\n",
        "#autores_dados = autores_dados.rename(columns={0:'Autor',1:'Citacao',2:'Indice h', 3:'Indice i10'})\r\n",
        "#autores_dados = autores_dados.set_index('Autor')\r\n"
      ],
      "execution_count": null,
      "outputs": []
    },
    {
      "cell_type": "markdown",
      "metadata": {
        "id": "5bcFD7OrISz7"
      },
      "source": [
        "Automação com Selenium "
      ]
    },
    {
      "cell_type": "code",
      "metadata": {
        "id": "ZPd4H_acDpMk"
      },
      "source": [
        "#Automatização com Selenium \n",
        "#pega o link do botão no final da pagina, usei selenium pq o link e todo bagunçado \n",
        "#entra na pagina clica no botão e pega o link na barra de nevegação, o total de links varia com o valor que coloca no loop\n",
        "#usei 20 links pq estava dando erro se tentar pegar um valor maior, são 58 paginas \n",
        "!pip install kora -q\n",
        "from kora.selenium import wd\n",
        "from selenium.webdriver.chrome.options import Options\n",
        "chrome_options = Options()\n",
        "chrome_options.add_argument('--no-sandbox')\n",
        "chrome_options.add_argument('--ignore-certificate-errors')\n",
        "chrome_options.add_argument('--headless')\n",
        "chrome_options.add_argument('--disable-dev-shm-usage') \n",
        "from selenium import webdriver\n",
        "from selenium.webdriver.support.ui import WebDriverWait\n",
        "url = \"https://scholar.google.com.br/citations?view_op=search_authors&hl=pt-BR&mauthors=label:ontologies\"\n",
        "wd.get(url)\n",
        "url_autores = [url]\n",
        "\n",
        "for i in range(50): #Quantidade de Links que o loop vai pegar  \n",
        "  submit = wd.find_element_by_xpath('/html/body/div/div[8]/div[2]/div/div[11]/div/button[2]')\n",
        "  submit.click()\n",
        "  wait = WebDriverWait(wd,90 )\n",
        "  link = wd.current_url\n",
        "  url_autores.append(link)\n",
        "  wd.get(link)\n",
        "\n",
        "autores_dados = pd.DataFrame()\n",
        "for i in range(len(url_autores)):\n",
        "  listas=(inicio(url_autores[i]))\n",
        "  autores_dados = autores_dados.append(listas)\n",
        "autores_dados = autores_dados.rename(columns={0:'Autor',1:'Citacao',2:'Indice h', 3:'Indice i10'})\n",
        "autores_dados = autores_dados.set_index('Autor')\n"
      ],
      "execution_count": 12,
      "outputs": []
    },
    {
      "cell_type": "markdown",
      "metadata": {
        "id": "T3gNhsVqIViL"
      },
      "source": [
        "-------------------------------------------------------------------------"
      ]
    },
    {
      "cell_type": "code",
      "metadata": {
        "id": "mMKORfc1C7aZ",
        "colab": {
          "base_uri": "https://localhost:8080/",
          "height": 446
        },
        "outputId": "9f362996-d994-4256-caef-605854698b89"
      },
      "source": [
        "autores_dados.head(510)"
      ],
      "execution_count": 16,
      "outputs": [
        {
          "output_type": "execute_result",
          "data": {
            "text/html": [
              "<div>\n",
              "<style scoped>\n",
              "    .dataframe tbody tr th:only-of-type {\n",
              "        vertical-align: middle;\n",
              "    }\n",
              "\n",
              "    .dataframe tbody tr th {\n",
              "        vertical-align: top;\n",
              "    }\n",
              "\n",
              "    .dataframe thead th {\n",
              "        text-align: right;\n",
              "    }\n",
              "</style>\n",
              "<table border=\"1\" class=\"dataframe\">\n",
              "  <thead>\n",
              "    <tr style=\"text-align: right;\">\n",
              "      <th></th>\n",
              "      <th>Citacao</th>\n",
              "      <th>Indice h</th>\n",
              "      <th>Indice i10</th>\n",
              "    </tr>\n",
              "    <tr>\n",
              "      <th>Autor</th>\n",
              "      <th></th>\n",
              "      <th></th>\n",
              "      <th></th>\n",
              "    </tr>\n",
              "  </thead>\n",
              "  <tbody>\n",
              "    <tr>\n",
              "      <th>Ian Horrocks</th>\n",
              "      <td>65971</td>\n",
              "      <td>97</td>\n",
              "      <td>366</td>\n",
              "    </tr>\n",
              "    <tr>\n",
              "      <th>Deborah L. McGuinness</th>\n",
              "      <td>50657</td>\n",
              "      <td>73</td>\n",
              "      <td>202</td>\n",
              "    </tr>\n",
              "    <tr>\n",
              "      <th>Christopher J Mungall</th>\n",
              "      <td>42193</td>\n",
              "      <td>77</td>\n",
              "      <td>150</td>\n",
              "    </tr>\n",
              "    <tr>\n",
              "      <th>Mark Musen</th>\n",
              "      <td>39918</td>\n",
              "      <td>89</td>\n",
              "      <td>373</td>\n",
              "    </tr>\n",
              "    <tr>\n",
              "      <th>Michelle Gwinn Giglio</th>\n",
              "      <td>36684</td>\n",
              "      <td>42</td>\n",
              "      <td>56</td>\n",
              "    </tr>\n",
              "    <tr>\n",
              "      <th>...</th>\n",
              "      <td>...</td>\n",
              "      <td>...</td>\n",
              "      <td>...</td>\n",
              "    </tr>\n",
              "    <tr>\n",
              "      <th>Johannes I. Single</th>\n",
              "      <td>16</td>\n",
              "      <td>3</td>\n",
              "      <td>0</td>\n",
              "    </tr>\n",
              "    <tr>\n",
              "      <th>Laura Cristina Simões Viana</th>\n",
              "      <td>15</td>\n",
              "      <td>3</td>\n",
              "      <td>0</td>\n",
              "    </tr>\n",
              "    <tr>\n",
              "      <th>Ieva Zeltmate</th>\n",
              "      <td>15</td>\n",
              "      <td>3</td>\n",
              "      <td>0</td>\n",
              "    </tr>\n",
              "    <tr>\n",
              "      <th>NAMRATA RASTOGI NAGPAL</th>\n",
              "      <td>15</td>\n",
              "      <td>2</td>\n",
              "      <td>0</td>\n",
              "    </tr>\n",
              "    <tr>\n",
              "      <th>Amanda Riverol Quesada</th>\n",
              "      <td>15</td>\n",
              "      <td>2</td>\n",
              "      <td>1</td>\n",
              "    </tr>\n",
              "  </tbody>\n",
              "</table>\n",
              "<p>510 rows × 3 columns</p>\n",
              "</div>"
            ],
            "text/plain": [
              "                            Citacao Indice h Indice i10\n",
              "Autor                                                  \n",
              "Ian Horrocks                  65971       97        366\n",
              "Deborah L. McGuinness         50657       73        202\n",
              "Christopher J Mungall         42193       77        150\n",
              "Mark Musen                    39918       89        373\n",
              "Michelle Gwinn Giglio         36684       42         56\n",
              "...                             ...      ...        ...\n",
              "Johannes I. Single               16        3          0\n",
              "Laura Cristina Simões Viana      15        3          0\n",
              "Ieva Zeltmate                    15        3          0\n",
              "NAMRATA RASTOGI NAGPAL           15        2          0\n",
              "Amanda Riverol Quesada           15        2          1\n",
              "\n",
              "[510 rows x 3 columns]"
            ]
          },
          "metadata": {
            "tags": []
          },
          "execution_count": 16
        }
      ]
    },
    {
      "cell_type": "markdown",
      "metadata": {
        "id": "u-9awkRI4CJH"
      },
      "source": [
        "Gerar csv "
      ]
    },
    {
      "cell_type": "code",
      "metadata": {
        "id": "YGlAVvDwLFyM"
      },
      "source": [
        "autores_dados.to_csv('file_name.csv', sep=';', encoding='utf-8', index=True)"
      ],
      "execution_count": null,
      "outputs": []
    }
  ]
}