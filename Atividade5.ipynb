{
  "nbformat": 4,
  "nbformat_minor": 0,
  "metadata": {
    "colab": {
      "name": "Atividade5.ipynb",
      "provenance": [],
      "collapsed_sections": [],
      "mount_file_id": "1zGhzwD-9XhZa9IzGJ4_RcUOb5gs8q5XE",
      "authorship_tag": "ABX9TyMLaAe5fLGrJA5iyKy50yNX",
      "include_colab_link": true
    },
    "kernelspec": {
      "name": "python3",
      "display_name": "Python 3"
    }
  },
  "cells": [
    {
      "cell_type": "markdown",
      "metadata": {
        "id": "view-in-github",
        "colab_type": "text"
      },
      "source": [
        "<a href=\"https://colab.research.google.com/github/JsantosAn/Mestrado/blob/main/Atividade5.ipynb\" target=\"_parent\"><img src=\"https://colab.research.google.com/assets/colab-badge.svg\" alt=\"Open In Colab\"/></a>"
      ]
    },
    {
      "cell_type": "code",
      "metadata": {
        "id": "wqYOACVTHwts"
      },
      "source": [
        "from sklearn.datasets import load_iris\r\n",
        "from sklearn.metrics import accuracy_score\r\n",
        "from sklearn.tree import DecisionTreeClassifier\r\n",
        "import pandas as pd\r\n",
        "from sklearn.model_selection import cross_validate\r\n",
        "import numpy as np\r\n",
        "import matplotlib.pyplot as plt\r\n",
        "from collections import Counter\r\n",
        "from sklearn.base import BaseEstimator, ClassifierMixin\r\n",
        "iris = load_iris()\r\n",
        "X, y = iris.data[:,2:], iris.target\r\n"
      ],
      "execution_count": 244,
      "outputs": []
    },
    {
      "cell_type": "markdown",
      "metadata": {
        "id": "CWKHqqGxK9gy"
      },
      "source": [
        "Base ires "
      ]
    },
    {
      "cell_type": "code",
      "metadata": {
        "id": "5Feg42pKIq1q",
        "colab": {
          "base_uri": "https://localhost:8080/"
        },
        "outputId": "466f2da4-bdfa-4bae-fd08-3a96c3bbf294"
      },
      "source": [
        "\r\n",
        "def maisFrequente(y):\r\n",
        "    return Counter(y.flat).most_common(1)[0][0]\r\n",
        "\r\n",
        "def impureza(y): #Gini\r\n",
        "    labels = list(set(y))\r\n",
        "    labels.sort()\r\n",
        "    probabilidades = np.zeros((len(labels),))\r\n",
        "    for i,k in enumerate(labels):\r\n",
        "        probabilidades[i] = sum(y==k)/len(y)\r\n",
        "    result = 1 - sum(probabilidades**2)\r\n",
        "    return result\r\n",
        "\r\n",
        "ytmp = y[:]\r\n",
        "valor = impureza(ytmp)\r\n",
        "valor\r\n",
        "def impurezaValor(x, y, valor):\r\n",
        "    maiores = x>valor\r\n",
        "    impurezaMaiores = impureza(y[maiores])\r\n",
        "    propMaiores = sum(maiores)/len(y)\r\n",
        "    impurezaMenores = impureza(y[~maiores])\r\n",
        "    propMenores = sum(~maiores)/len(y)\r\n",
        "    impurezaTotal = propMaiores*impurezaMaiores + propMenores*impurezaMenores\r\n",
        "    return impurezaTotal, impurezaMaiores, impurezaMenores\r\n",
        "impurezaValor(X[:,0], y, 2.5)   \r\n",
        "\r\n",
        "def melhorValor(x, y):\r\n",
        "    result = None\r\n",
        "    menorImpureza = float('inf')\r\n",
        "    xmax = np.max(x)\r\n",
        "    xmin = np.min(x)\r\n",
        "    while True:\r\n",
        "     \r\n",
        "        valor = (xmin+xmax)/2\r\n",
        "        impTotal, impMaiores, impMenores = impurezaValor(x, y, valor)\r\n",
        "        if impTotal < menorImpureza:\r\n",
        "            menorImpureza = impTotal\r\n",
        "            result = valor\r\n",
        "            if impMaiores == 0 or impMenores == 0:\r\n",
        "                break\r\n",
        "            if impMaiores < impMenores:\r\n",
        "                xmin = valor\r\n",
        "            else:\r\n",
        "                xmax = valor\r\n",
        "        else:\r\n",
        "            break\r\n",
        "    return result, menorImpureza\r\n",
        "melhorValor(X[:,0], y)\r\n",
        "\r\n",
        "\r\n",
        "def melhorCaracteristica(X, y):\r\n",
        "    impurezas = []\r\n",
        "    valores = []\r\n",
        "    for caracteristica in range(X.shape[1]):\r\n",
        "        valor, imp = melhorValor(X[:,caracteristica], y)\r\n",
        "        impurezas.append(imp)\r\n",
        "        valores.append(valor)\r\n",
        "    impurezas = np.array(impurezas)\r\n",
        "    caracteristica = np.argmin(impurezas)\r\n",
        "    return caracteristica, valores[caracteristica], impurezas[caracteristica]\r\n",
        "print(melhorCaracteristica(X,y))\r\n",
        "\r\n",
        "def plotDecisao(modelo, X, y):\r\n",
        "    modelo.fit(X, y)\r\n",
        "    x0s = np.linspace(np.min(X[:,0])-0.2, np.max(X[:,0])+0.2, 100)\r\n",
        "    x1s = np.linspace(np.min(X[:,1])-0.2, np.max(X[:,1])+0.2, 100)\r\n",
        "    x0, x1 = np.meshgrid(x0s, x1s)\r\n",
        "    Xdec = np.c_[x0.ravel(), x1.ravel()]\r\n",
        "    ypred = modelo.predict(Xdec)\r\n",
        "    plt.contourf(x0, x1, ypred.reshape(x0.shape), alpha=0.25)\r\n",
        "    for k in set(y):\r\n",
        "        plt.plot(X[:,0][y==k], X[:,1][y==k], 'o', label=f\"{iris.target_names[k]} [{k}]\")\r\n",
        "    plt.xlabel(f\"X[0]: {iris.feature_names[0]}\")\r\n",
        "    plt.ylabel(f\"X[1]: {iris.feature_names[1]}\")\r\n",
        "    plt.show()\r\n",
        "\r\n",
        "\r\n"
      ],
      "execution_count": 245,
      "outputs": [
        {
          "output_type": "stream",
          "text": [
            "(0, 2.475, 0.3333333333333333)\n"
          ],
          "name": "stdout"
        }
      ]
    },
    {
      "cell_type": "code",
      "metadata": {
        "id": "9NBc2YyyJt_h"
      },
      "source": [
        "class Arvore(BaseEstimator, ClassifierMixin):\r\n",
        "    def fit(self, X, y):\r\n",
        "        self.caracteristica, self.valor, self.imp = melhorCaracteristica(X,y)\r\n",
        "        maiores = X[:,self.caracteristica] > self.valor\r\n",
        "        if sum(maiores)>0 and sum(~maiores)>0:\r\n",
        "            self.maiores = Arvore()\r\n",
        "            self.maiores.fit(X[maiores,:],y[maiores])\r\n",
        "            self.menores = Arvore()\r\n",
        "            self.menores.fit(X[~maiores,:],y[~maiores])\r\n",
        "        else:\r\n",
        "            self.resposta = maisFrequente(y)\r\n",
        "    def predict(self, X):\r\n",
        "        y = np.empty((X.shape[0]))\r\n",
        "        if hasattr(self, 'resposta'):\r\n",
        "            y[:] = self.resposta\r\n",
        "        else:\r\n",
        "            maiores = X[:,self.caracteristica] > self.valor\r\n",
        "            y[maiores] = self.maiores.predict(X[maiores,:])\r\n",
        "            y[~maiores] = self.menores.predict(X[~maiores,:])\r\n",
        "        return y\r\n",
        "\r\n",
        "modelo = Arvore()\r\n",
        "modelo.fit(X,y)\r\n",
        "ypred = modelo.predict(X)\r\n",
        "accuracy_score(y, ypred), (ypred == y)"
      ],
      "execution_count": null,
      "outputs": []
    },
    {
      "cell_type": "markdown",
      "metadata": {
        "id": "IFxow_Z1LazS"
      },
      "source": [
        "Nova Heuristica"
      ]
    },
    {
      "cell_type": "code",
      "metadata": {
        "id": "5qd2TKHjLE7Y"
      },
      "source": [
        "def new_melhorValor(x, y):\r\n",
        "    result = None\r\n",
        "    menorImpureza = float('inf')\r\n",
        "    #x = np.sort(x)\r\n",
        "    valor = np.var(x)   \r\n",
        "\r\n",
        "    while True:\r\n",
        "        impTotal, impMaiores, impMenores = impurezaValor(x, y, valor)\r\n",
        "        if impTotal < menorImpureza:\r\n",
        "            menorImpureza = impTotal\r\n",
        "            result = valor\r\n",
        "            if impMaiores == 0 or impMenores == 0:\r\n",
        "                break\r\n",
        "            if impMaiores < impMenores:\r\n",
        "                xmin = valor\r\n",
        "            else:\r\n",
        "                xmax = valor\r\n",
        "        else:\r\n",
        "            break\r\n",
        "     \r\n",
        "    return result, menorImpureza\r\n",
        "new_melhorValor(X[:,0], y)\r\n",
        "\r\n",
        "\r\n",
        "def new_melhorCaracteristica(X, y):\r\n",
        "    impurezas = []\r\n",
        "    valores = []\r\n",
        "    for caracteristica in range(X.shape[1]):\r\n",
        "        valor, imp = new_melhorValor(X[:,caracteristica], y)\r\n",
        "        impurezas.append(imp)\r\n",
        "        valores.append(valor)\r\n",
        "    impurezas = np.array(impurezas)\r\n",
        "    caracteristica = np.argmin(impurezas)\r\n",
        "    return caracteristica, valores[caracteristica], impurezas[caracteristica]\r\n",
        "    print(new_melhorCaracteristica(X,y))\r\n"
      ],
      "execution_count": 247,
      "outputs": []
    },
    {
      "cell_type": "code",
      "metadata": {
        "id": "-2n2ugkmMokb",
        "colab": {
          "base_uri": "https://localhost:8080/"
        },
        "outputId": "645589e8-f7f9-4a14-aebe-e70ad1aaad71"
      },
      "source": [
        "class New_arvore(BaseEstimator, ClassifierMixin):\r\n",
        "    def fit(self, X, y):\r\n",
        "        self.caracteristica, self.valor, self.imp = new_melhorCaracteristica(X,y)\r\n",
        "        maiores = X[:,self.caracteristica] > self.valor\r\n",
        "        if sum(maiores)>0 and sum(~maiores)>0:\r\n",
        "            self.maiores = Arvore()\r\n",
        "            self.maiores.fit(X[maiores,:],y[maiores])\r\n",
        "            self.menores = Arvore()\r\n",
        "            self.menores.fit(X[~maiores,:],y[~maiores])\r\n",
        "        else:\r\n",
        "            self.resposta = maisFrequente(y)\r\n",
        "    def predict(self, X):\r\n",
        "        y = np.empty((X.shape[0]))\r\n",
        "        if hasattr(self, 'resposta'):\r\n",
        "            y[:] = self.resposta\r\n",
        "        else:\r\n",
        "            maiores = X[:,self.caracteristica] > self.valor\r\n",
        "            y[maiores] = self.maiores.predict(X[maiores,:])\r\n",
        "            y[~maiores] = self.menores.predict(X[~maiores,:])\r\n",
        "        return y\r\n",
        "\r\n",
        "modelo = New_arvore()\r\n",
        "modelo.fit(X,y)\r\n",
        "ypred = modelo.predict(X)\r\n",
        "accuracy_score(y, ypred), (ypred == y)"
      ],
      "execution_count": 248,
      "outputs": [
        {
          "output_type": "execute_result",
          "data": {
            "text/plain": [
              "(0.9933333333333333,\n",
              " array([ True,  True,  True,  True,  True,  True,  True,  True,  True,\n",
              "         True,  True,  True,  True,  True,  True,  True,  True,  True,\n",
              "         True,  True,  True,  True,  True,  True,  True,  True,  True,\n",
              "         True,  True,  True,  True,  True,  True,  True,  True,  True,\n",
              "         True,  True,  True,  True,  True,  True,  True,  True,  True,\n",
              "         True,  True,  True,  True,  True,  True,  True,  True,  True,\n",
              "         True,  True,  True,  True,  True,  True,  True,  True,  True,\n",
              "         True,  True,  True,  True,  True,  True,  True, False,  True,\n",
              "         True,  True,  True,  True,  True,  True,  True,  True,  True,\n",
              "         True,  True,  True,  True,  True,  True,  True,  True,  True,\n",
              "         True,  True,  True,  True,  True,  True,  True,  True,  True,\n",
              "         True,  True,  True,  True,  True,  True,  True,  True,  True,\n",
              "         True,  True,  True,  True,  True,  True,  True,  True,  True,\n",
              "         True,  True,  True,  True,  True,  True,  True,  True,  True,\n",
              "         True,  True,  True,  True,  True,  True,  True,  True,  True,\n",
              "         True,  True,  True,  True,  True,  True,  True,  True,  True,\n",
              "         True,  True,  True,  True,  True,  True]))"
            ]
          },
          "metadata": {
            "tags": []
          },
          "execution_count": 248
        }
      ]
    },
    {
      "cell_type": "code",
      "metadata": {
        "id": "f9PCGxhY443h"
      },
      "source": [
        "plotDecisao(New_arvore(), X, y)"
      ],
      "execution_count": null,
      "outputs": []
    },
    {
      "cell_type": "markdown",
      "metadata": {
        "id": "IDJy89ti6H5b"
      },
      "source": [
        "Sklearn Arvore"
      ]
    },
    {
      "cell_type": "code",
      "metadata": {
        "id": "Qw1mlKeS5iaQ",
        "colab": {
          "base_uri": "https://localhost:8080/"
        },
        "outputId": "2c11e6e4-cad8-4b2f-c989-f2118bbe8b9d"
      },
      "source": [
        "\r\n",
        "sklearn_arvore = DecisionTreeClassifier()\r\n",
        "\r\n",
        "sklearn_arvore.fit(X,y)\r\n",
        "ypred = sklearn_arvore.predict(X)\r\n",
        "accuracy_score(y, ypred), (ypred == y)"
      ],
      "execution_count": 249,
      "outputs": [
        {
          "output_type": "execute_result",
          "data": {
            "text/plain": [
              "(0.9933333333333333,\n",
              " array([ True,  True,  True,  True,  True,  True,  True,  True,  True,\n",
              "         True,  True,  True,  True,  True,  True,  True,  True,  True,\n",
              "         True,  True,  True,  True,  True,  True,  True,  True,  True,\n",
              "         True,  True,  True,  True,  True,  True,  True,  True,  True,\n",
              "         True,  True,  True,  True,  True,  True,  True,  True,  True,\n",
              "         True,  True,  True,  True,  True,  True,  True,  True,  True,\n",
              "         True,  True,  True,  True,  True,  True,  True,  True,  True,\n",
              "         True,  True,  True,  True,  True,  True,  True, False,  True,\n",
              "         True,  True,  True,  True,  True,  True,  True,  True,  True,\n",
              "         True,  True,  True,  True,  True,  True,  True,  True,  True,\n",
              "         True,  True,  True,  True,  True,  True,  True,  True,  True,\n",
              "         True,  True,  True,  True,  True,  True,  True,  True,  True,\n",
              "         True,  True,  True,  True,  True,  True,  True,  True,  True,\n",
              "         True,  True,  True,  True,  True,  True,  True,  True,  True,\n",
              "         True,  True,  True,  True,  True,  True,  True,  True,  True,\n",
              "         True,  True,  True,  True,  True,  True,  True,  True,  True,\n",
              "         True,  True,  True,  True,  True,  True]))"
            ]
          },
          "metadata": {
            "tags": []
          },
          "execution_count": 249
        }
      ]
    },
    {
      "cell_type": "code",
      "metadata": {
        "colab": {
          "base_uri": "https://localhost:8080/",
          "height": 803
        },
        "id": "4hUJMnY55YKJ",
        "outputId": "85ab4d18-8220-4588-f8f7-22ccc1be1c5b"
      },
      "source": [
        "plotDecisao(Arvore(), X, y)\r\n",
        "plotDecisao(New_arvore(), X, y)\r\n",
        "plotDecisao(sklearn_arvore, X, y)"
      ],
      "execution_count": 250,
      "outputs": [
        {
          "output_type": "display_data",
          "data": {
            "image/png": "[encoded data removed]",
            "text/plain": [
              "<Figure size 432x288 with 1 Axes>"
            ]
          },
          "metadata": {
            "tags": [],
            "needs_background": "light"
          }
        },
        {
          "output_type": "display_data",
          "data": {
            "image/png": "[encoded data removed]",
            "text/plain": [
              "<Figure size 432x288 with 1 Axes>"
            ]
          },
          "metadata": {
            "tags": [],
            "needs_background": "light"
          }
        },
        {
          "output_type": "display_data",
          "data": {
            "image/png": "[encoded data removed]",
            "text/plain": [
              "<Figure size 432x288 with 1 Axes>"
            ]
          },
          "metadata": {
            "tags": [],
            "needs_background": "light"
          }
        }
      ]
    },
    {
      "cell_type": "code",
      "metadata": {
        "id": "7uSpW50V6RnQ",
        "colab": {
          "base_uri": "https://localhost:8080/"
        },
        "outputId": "842fe7fa-ec9f-4efb-abcc-21625cb15d0c"
      },
      "source": [
        "url = 'https://archive.ics.uci.edu/ml/machine-learning-databases/00537/sobar-72.csv'\r\n",
        "base = pd.read_csv(url) \r\n",
        "X, y = base.iloc[:,:-1], base.iloc[:,-1]\r\n",
        "X = pd.DataFrame.to_numpy(X)\r\n",
        "y = pd.DataFrame.to_numpy(y)   \r\n",
        "print('###################################################################') \r\n",
        "print('conjunto de dados de risco de comportamento de câncer cervical  ')\r\n",
        "print('###################################################################') \r\n",
        "modelo = Arvore()\r\n",
        "modelo.fit(X,y)\r\n",
        "ypred = modelo.predict(X)\r\n",
        "scores = cross_validate(Arvore(), X, y)\r\n",
        "print('___________________________________________________________________') \r\n",
        "print('Arvore_video :' , np.mean(scores['test_score']))\r\n",
        "\r\n",
        "\r\n",
        "modelo1 = New_arvore()\r\n",
        "modelo1.fit(X,y)\r\n",
        "ypred = modelo1.predict(X)\r\n",
        "scores = cross_validate(New_arvore(), X, y)\r\n",
        "print('Nova_Arvore :' , np.mean(scores['test_score']))\r\n",
        "\r\n",
        "\r\n",
        "\r\n",
        "\r\n",
        "modelo2 = DecisionTreeClassifier()\r\n",
        "modelo2.fit(X,y)\r\n",
        "ypred = modelo2.predict(X)\r\n",
        "scores = cross_validate(DecisionTreeClassifier(), X, y)\r\n",
        "print('sklearn_arvore :' , np.mean(scores['test_score']))\r\n",
        "print('___________________________________________________________________')"
      ],
      "execution_count": 264,
      "outputs": [
        {
          "output_type": "stream",
          "text": [
            "###################################################################\n",
            "conjunto de dados de risco de comportamento de câncer cervical  \n",
            "###################################################################\n",
            "___________________________________________________________________\n",
            "Arvore_video : 0.821904761904762\n",
            "Nova_Arvore : 0.7923809523809524\n",
            "sklearn_arvore : 0.8352380952380951\n",
            "___________________________________________________________________\n"
          ],
          "name": "stdout"
        }
      ]
    },
    {
      "cell_type": "code",
      "metadata": {
        "colab": {
          "base_uri": "https://localhost:8080/"
        },
        "id": "WPzjguTxHKqq",
        "outputId": "fdfbd9e5-b0a9-4acb-fdd9-674c88539e4c"
      },
      "source": [
        "url = 'https://archive.ics.uci.edu/ml/machine-learning-databases/00429/Cryotherapy.xlsx'\r\n",
        "base = pd.read_excel(url) \r\n",
        "X, y = base.iloc[:,:-1], base.iloc[:,-1]\r\n",
        "X = pd.DataFrame.to_numpy(X)\r\n",
        "y = pd.DataFrame.to_numpy(y)   \r\n",
        "\r\n",
        "print('###################################################################') \r\n",
        "print('conjunto de dados de crioterapia ')\r\n",
        "print('###################################################################') \r\n",
        "modelo = Arvore()\r\n",
        "modelo.fit(X,y)\r\n",
        "ypred = modelo.predict(X)\r\n",
        "scores = cross_validate(Arvore(), X, y)  \r\n",
        "print('___________________________________________________________________')   \r\n",
        "print('Arvore_video :' , np.mean(scores['test_score']))\r\n",
        "\r\n",
        "\r\n",
        "modelo1 = New_arvore()\r\n",
        "modelo1.fit(X,y)\r\n",
        "ypred = modelo1.predict(X)\r\n",
        "scores = cross_validate(New_arvore(), X, y)\r\n",
        "print('Nova_Arvore :' , np.mean(scores['test_score']))\r\n",
        "\r\n",
        "\r\n",
        "\r\n",
        "\r\n",
        "modelo2 = DecisionTreeClassifier()\r\n",
        "modelo2.fit(X,y)\r\n",
        "ypred = modelo2.predict(X)\r\n",
        "scores = cross_validate(DecisionTreeClassifier(), X, y)\r\n",
        "print('sklearn_arvore :' , np.mean(scores['test_score']))\r\n",
        "print('___________________________________________________________________')   \r\n",
        "\r\n",
        "\r\n",
        "\r\n",
        "\r\n"
      ],
      "execution_count": 265,
      "outputs": [
        {
          "output_type": "stream",
          "text": [
            "###################################################################\n",
            "conjunto de dados de crioterapia \n",
            "###################################################################\n",
            "___________________________________________________________________\n",
            "Arvore_video : 0.8777777777777779\n",
            "Nova_Arvore : 0.9\n",
            "sklearn_arvore : 0.888888888888889\n",
            "___________________________________________________________________\n"
          ],
          "name": "stdout"
        }
      ]
    },
    {
      "cell_type": "code",
      "metadata": {
        "colab": {
          "base_uri": "https://localhost:8080/"
        },
        "id": "BjnQKIO8-x6n",
        "outputId": "311979bf-6c5d-47fe-d688-e483bebfa888"
      },
      "source": [
        "url =  'https://archive.ics.uci.edu/ml/machine-learning-databases/00428/Immunotherapy.xlsx'\r\n",
        "base = pd.read_excel(url) \r\n",
        "X, y = base.iloc[:,:-1].values, base.iloc[:,-1].values\r\n",
        "\r\n",
        "print('###################################################################') \r\n",
        "print('conjunto de dados de imunoterapia ')\r\n",
        "print('###################################################################') \r\n",
        "modelo = Arvore()\r\n",
        "modelo.fit(X,y)\r\n",
        "ypred = modelo.predict(X)\r\n",
        "scores = cross_validate(Arvore(), X, y)\r\n",
        "print('___________________________________________________________________')\r\n",
        "print('Arvore_video :' , np.mean(scores['test_score']))\r\n",
        "\r\n",
        "\r\n",
        "modelo1 = New_arvore()\r\n",
        "modelo1.fit(X,y)\r\n",
        "ypred = modelo1.predict(X)\r\n",
        "scores = cross_validate(New_arvore(), X, y)\r\n",
        "print('Nova_Arvore :' , np.mean(scores['test_score']))\r\n",
        "\r\n",
        "\r\n",
        "\r\n",
        "\r\n",
        "modelo2 = DecisionTreeClassifier()\r\n",
        "modelo2.fit(X,y)\r\n",
        "ypred = modelo2.predict(X)\r\n",
        "scores = cross_validate(DecisionTreeClassifier(), X, y)\r\n",
        "print('sklearn_arvore :' , np.mean(scores['test_score']))\r\n",
        "print('___________________________________________________________________')\r\n",
        "\r\n",
        "\r\n",
        "\r\n",
        "\r\n",
        "\r\n"
      ],
      "execution_count": 266,
      "outputs": [
        {
          "output_type": "stream",
          "text": [
            "###################################################################\n",
            "conjunto de dados de imunoterapia \n",
            "###################################################################\n",
            "___________________________________________________________________\n",
            "Arvore_video : 0.7222222222222221\n",
            "Nova_Arvore : 0.8\n",
            "sklearn_arvore : 0.8333333333333334\n",
            "___________________________________________________________________\n"
          ],
          "name": "stdout"
        }
      ]
    },
    {
      "cell_type": "markdown",
      "metadata": {
        "id": "BUHkZD2VQaI3"
      },
      "source": [
        "considerando oque foi proposto pela atividade utilizei da Variância como heuristica para montar a nova arvore de decisão os resultados não ficaram muito distantes dos algoritmos apresentados no video e o do sklearn, talvez eu possa ter interpretado mal a prosta. Mais os resultados se mostra bem satisfatorio"
      ]
    }
  ]
}